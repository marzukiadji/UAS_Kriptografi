{
  "nbformat": 4,
  "nbformat_minor": 0,
  "metadata": {
    "colab": {
      "provenance": [],
      "mount_file_id": "1ErtfP1rLkkEflku-yJ2bDBTYYe-9PSko",
      "authorship_tag": "ABX9TyPtqbdqjO6ScLgKFGkdSRFh",
      "include_colab_link": true
    },
    "kernelspec": {
      "name": "python3",
      "display_name": "Python 3"
    },
    "language_info": {
      "name": "python"
    }
  },
  "cells": [
    {
      "cell_type": "markdown",
      "metadata": {
        "id": "view-in-github",
        "colab_type": "text"
      },
      "source": [
        "<a href=\"https://colab.research.google.com/github/marzukiadji/UAS_Kriptografi/blob/main/Stegano.ipynb\" target=\"_parent\"><img src=\"https://colab.research.google.com/assets/colab-badge.svg\" alt=\"Open In Colab\"/></a>"
      ]
    },
    {
      "cell_type": "code",
      "execution_count": null,
      "metadata": {
        "colab": {
          "base_uri": "https://localhost:8080/"
        },
        "id": "nMTSeQpAAwij",
        "outputId": "de5cabbb-1bf5-4a75-b372-2205315c4be8"
      },
      "outputs": [
        {
          "output_type": "stream",
          "name": "stdout",
          "text": [
            "Drive already mounted at /content/drive; to attempt to forcibly remount, call drive.mount(\"/content/drive\", force_remount=True).\n",
            "Stegano encoding selesai. Simpan di: /content/drive/MyDrive/encoded/encoded_image.png\n"
          ]
        }
      ],
      "source": [
        "from PIL import Image\n",
        "from google.colab import drive\n",
        "\n",
        "# Menghubungkan dengan Google Drive\n",
        "drive.mount('/content/drive')\n",
        "\n",
        "def text_to_binary(text):\n",
        "    \"\"\"Mengubah teks menjadi representasi biner\"\"\"\n",
        "    binary_data = ' '.join(format(ord(char), '08b') for char in text)\n",
        "    return binary_data\n",
        "\n",
        "def binary_to_text(binary_data):\n",
        "    \"\"\"Mengubah representasi biner menjadi teks\"\"\"\n",
        "    text = ''.join(chr(int(char, 2)) for char in binary_data.split(' '))\n",
        "    return text\n",
        "\n",
        "def encode_stegano(image_path, secret_text, output_path):\n",
        "    \"\"\"Menyembunyikan teks di dalam gambar menggunakan steganografi\"\"\"\n",
        "    # Baca gambar\n",
        "    image = Image.open(image_path)\n",
        "    pixels = list(image.getdata())\n",
        "\n",
        "    # Ubah teks menjadi representasi biner\n",
        "    binary_secret_text = text_to_binary(secret_text)\n",
        "\n",
        "    # Pastikan panjang pesan rahasia tidak melebihi kapasitas gambar\n",
        "    if len(binary_secret_text) > len(pixels):\n",
        "        raise ValueError(\"Panjang teks rahasia melebihi kapasitas gambar\")\n",
        "\n",
        "    # Sembunyikan teks di dalam piksel gambar\n",
        "    for i in range(len(binary_secret_text)):\n",
        "        pixel = list(pixels[i])\n",
        "        pixel[-1] = int(format(pixel[-1], '08b')[:-1] + binary_secret_text[i], 2)\n",
        "        pixels[i] = tuple(pixel)\n",
        "\n",
        "    # Simpan gambar baru dengan teks tersembunyi\n",
        "    encoded_image = Image.new(image.mode, image.size)\n",
        "    encoded_image.putdata(pixels)\n",
        "\n",
        "    # Simpan gambar di Google Drive\n",
        "    encoded_image.save(output_path)\n",
        "    print(\"Stegano encoding selesai. Simpan di:\", output_path)\n",
        "\n",
        "# Langkah 1: Enkode teks ke dalam gambar\n",
        "image_path = \"/content/drive/MyDrive/codingan.jpeg\"\n",
        "secret_text = \"Hello, this is a secret message!\"\n",
        "output_path = \"/content/drive/MyDrive/encoded/encoded_image.png\"\n",
        "encode_stegano(image_path, secret_text, output_path)\n"
      ]
    }
  ]
}